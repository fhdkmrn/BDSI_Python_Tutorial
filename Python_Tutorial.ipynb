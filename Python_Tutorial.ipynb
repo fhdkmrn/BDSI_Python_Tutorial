{
  "nbformat": 4,
  "nbformat_minor": 0,
  "metadata": {
    "colab": {
      "name": "Python Tutorial.ipynb",
      "version": "0.3.2",
      "provenance": [],
      "private_outputs": true,
      "collapsed_sections": [
        "BVgDHYMFNBrY",
        "IX6Swfo9NBrg",
        "5IrF3GdGNBwf"
      ],
      "include_colab_link": true
    },
    "language_info": {
      "codemirror_mode": {
        "name": "ipython",
        "version": 3
      },
      "file_extension": ".py",
      "mimetype": "text/x-python",
      "name": "python",
      "nbconvert_exporter": "python",
      "pygments_lexer": "ipython3",
      "version": "3.5.6"
    },
    "kernelspec": {
      "name": "python3",
      "display_name": "Python 3"
    }
  },
  "cells": [
    {
      "cell_type": "markdown",
      "metadata": {
        "id": "view-in-github",
        "colab_type": "text"
      },
      "source": [
        "<a href=\"https://colab.research.google.com/github/fhdkmrn/BDSI_Python_Tutorial/blob/master/Python_Tutorial.ipynb\" target=\"_parent\"><img src=\"https://colab.research.google.com/assets/colab-badge.svg\" alt=\"Open In Colab\"/></a>"
      ]
    },
    {
      "cell_type": "markdown",
      "metadata": {
        "name": "folks",
        "id": "8mviXKBSNBp8",
        "colab_type": "text"
      },
      "source": [
        "# Python Tutorial\n",
        "\n",
        "\n",
        "*References:*\n",
        "1. https://docs.python.org/3/tutorial/\n",
        "2. https://docs.python.org/3/library/\n",
        "3. http://cs231n.github.io/python-numpy-tutorial/\n",
        "4. https://github.com/donnemartin/data-science-ipython-notebooks"
      ]
    },
    {
      "cell_type": "markdown",
      "metadata": {
        "id": "BUt13q6rNBp-",
        "colab_type": "text"
      },
      "source": [
        "### Let's run our slides first!\n",
        "\n",
        "```\n",
        "jupyter notebook\n",
        "```\n"
      ]
    },
    {
      "cell_type": "code",
      "metadata": {
        "id": "xPC8L2APNBp-",
        "colab_type": "code",
        "colab": {}
      },
      "source": [
        "print ('Hello Python3!')"
      ],
      "execution_count": 0,
      "outputs": []
    },
    {
      "cell_type": "markdown",
      "metadata": {
        "id": "y3gRwCvTNBqB",
        "colab_type": "text"
      },
      "source": [
        "# Python Basics\n",
        "\n",
        "- Variables and Types\n",
        "- Operators\n",
        "- Containers\n",
        "- Functions\n",
        "- Control Flow\n"
      ]
    },
    {
      "cell_type": "markdown",
      "metadata": {
        "id": "7InImqawNBqC",
        "colab_type": "text"
      },
      "source": [
        "### Variables and Types"
      ]
    },
    {
      "cell_type": "code",
      "metadata": {
        "id": "oBCLRX5INBqD",
        "colab_type": "code",
        "colab": {}
      },
      "source": [
        "x = 3\n",
        "print (x, type(x))"
      ],
      "execution_count": 0,
      "outputs": []
    },
    {
      "cell_type": "code",
      "metadata": {
        "id": "Qyb4amjvNBqF",
        "colab_type": "code",
        "colab": {}
      },
      "source": [
        "print (x + 3)   # Addition;\n",
        "print (x - x)   # Subtraction;\n",
        "print (x * 2)   # Multiplication;\n",
        "print (x ** 3)  # Exponentiation;"
      ],
      "execution_count": 0,
      "outputs": []
    },
    {
      "cell_type": "code",
      "metadata": {
        "id": "hDqo2O59NBqK",
        "colab_type": "code",
        "colab": {}
      },
      "source": [
        "print (x)\n",
        "x += 1\n",
        "print (x)\n",
        "x = x + 1\n",
        "print (x)  # Prints \"4\"\n",
        "x *= 2\n",
        "print (x)  # Prints \"8\""
      ],
      "execution_count": 0,
      "outputs": []
    },
    {
      "cell_type": "code",
      "metadata": {
        "id": "wALxF4DKNBqP",
        "colab_type": "code",
        "colab": {}
      },
      "source": [
        "y = 2.5\n",
        "print (type(y)) # Prints \"<class 'float'>\"\n",
        "print (y, y + 1, y * 2, y ** 2) # Prints \"2.5 3.5 5.0 6.25\""
      ],
      "execution_count": 0,
      "outputs": []
    },
    {
      "cell_type": "code",
      "metadata": {
        "id": "dKaVwoHFNBqR",
        "colab_type": "code",
        "colab": {}
      },
      "source": [
        "print (17 / 3)   # return float\n",
        "print (17 // 3)  # return integer\n",
        "print (17 % 3)   # Modulo operation"
      ],
      "execution_count": 0,
      "outputs": []
    },
    {
      "cell_type": "code",
      "metadata": {
        "id": "dBlaGlvDNBqV",
        "colab_type": "code",
        "colab": {}
      },
      "source": [
        "t, f = True, False # Note the Captilzation!\n",
        "print (type(t)) # Prints \"<class 'bool'>\""
      ],
      "execution_count": 0,
      "outputs": []
    },
    {
      "cell_type": "code",
      "metadata": {
        "id": "wq-PrS2eNBqd",
        "colab_type": "code",
        "colab": {}
      },
      "source": [
        "print (t and f) # Logical AND;\n",
        "print (t or f)  # Logical OR;\n",
        "print (not t)   # Logical NOT;\n",
        "print (t != f)  # Logical XOR;"
      ],
      "execution_count": 0,
      "outputs": []
    },
    {
      "cell_type": "code",
      "metadata": {
        "id": "GwJ-pGPtNBqf",
        "colab_type": "code",
        "colab": {}
      },
      "source": [
        "hello = 'hello'   # String literals can use single quotes\n",
        "world = \"world\"   # or double quotes; it does not matter.\n",
        "print (hello, len(hello))"
      ],
      "execution_count": 0,
      "outputs": []
    },
    {
      "cell_type": "code",
      "metadata": {
        "id": "Jnck2-fGNBqh",
        "colab_type": "code",
        "colab": {}
      },
      "source": [
        "hw = hello + ... + world  # String concatenation\n",
        "print (hw)  # prints \"hello world\""
      ],
      "execution_count": 0,
      "outputs": []
    },
    {
      "cell_type": "code",
      "metadata": {
        "id": "BJuo5wTLNBqm",
        "colab_type": "code",
        "colab": {}
      },
      "source": [
        "#Adding strings and numbers\n",
        "..."
      ],
      "execution_count": 0,
      "outputs": []
    },
    {
      "cell_type": "markdown",
      "metadata": {
        "id": "TR17V6C9NBqr",
        "colab_type": "text"
      },
      "source": [
        "You can find a list of all string methods in the [document](https://docs.python.org/3/library/string.html)."
      ]
    },
    {
      "cell_type": "markdown",
      "metadata": {
        "id": "CDl9DVVtNBqs",
        "colab_type": "text"
      },
      "source": [
        "### Containers\n",
        "\n",
        "Python includes several built-in container types: lists and dictionaries"
      ]
    },
    {
      "cell_type": "code",
      "metadata": {
        "id": "aAzVStR_NBqt",
        "colab_type": "code",
        "colab": {}
      },
      "source": [
        "x = [1, 2, 3, 'a', 'b', 'c'] #Create a list\n",
        "print (x[0])  # access by index\n",
        "print (...)    # index can be negative"
      ],
      "execution_count": 0,
      "outputs": []
    },
    {
      "cell_type": "code",
      "metadata": {
        "id": "tIJQqp_eNBqw",
        "colab_type": "code",
        "colab": {}
      },
      "source": [
        "#What happens is our index is too big? \n",
        "..."
      ],
      "execution_count": 0,
      "outputs": []
    },
    {
      "cell_type": "code",
      "metadata": {
        "id": "EwD-NPnaNBqy",
        "colab_type": "code",
        "colab": {}
      },
      "source": [
        "x = [1, 2, 3, 'a', 'b', 'c'] + ... # list append with the + operator"
      ],
      "execution_count": 0,
      "outputs": []
    },
    {
      "cell_type": "code",
      "metadata": {
        "id": "npvbFYTZNBq0",
        "colab_type": "code",
        "colab": {}
      },
      "source": [
        "x.append('element')\n",
        "print (x)\n",
        "print (x.pop(), x)\n",
        "print(... in x)"
      ],
      "execution_count": 0,
      "outputs": []
    },
    {
      "cell_type": "code",
      "metadata": {
        "id": "95RbcV5qNBq3",
        "colab_type": "code",
        "colab": {}
      },
      "source": [
        "x = [1, 2, 3, 4, 5]\n",
        "print (x[2:])\n",
        "print (x[:3])\n",
        "print (x[2:5])\n",
        "...  # modify elements in list\n",
        "print (x)"
      ],
      "execution_count": 0,
      "outputs": []
    },
    {
      "cell_type": "code",
      "metadata": {
        "id": "ZS0eb2L-NBrA",
        "colab_type": "code",
        "colab": {}
      },
      "source": [
        "new_dct = {}\n",
        "\n",
        "new_dct['hello'] = 'world!'\n",
        "\n",
        "print (new_dct)\n",
        "print (new_dict['hello'])"
      ],
      "execution_count": 0,
      "outputs": []
    },
    {
      "cell_type": "code",
      "metadata": {
        "id": "I4SrosWgNBrH",
        "colab_type": "code",
        "colab": {}
      },
      "source": [
        "initialized_dct = {'hello': 'world!', 'it\\'s!': 'me!', 'unexpected_list': [\"woah\", \"a\", \"list!\"]}\n",
        "print (initialized_dct)\n",
        "\n",
        "print (initialized_dct.keys())\n",
        "print (initialized_dct.values())\n",
        "print (initialized_dct.items())"
      ],
      "execution_count": 0,
      "outputs": []
    },
    {
      "cell_type": "code",
      "metadata": {
        "id": "iRrtX7_4NBrO",
        "colab_type": "code",
        "colab": {}
      },
      "source": [
        "#Issue with assignment operations\n",
        "\n",
        "first_list = [1,2,3]\n",
        "second_list = first_list\n",
        "\n",
        "second_list[2] = 100\n",
        "\n",
        "print (first_list)"
      ],
      "execution_count": 0,
      "outputs": []
    },
    {
      "cell_type": "code",
      "metadata": {
        "id": "oUJc-qkuNBrS",
        "colab_type": "code",
        "colab": {}
      },
      "source": [
        "#Fixing the assignment operation issue\n",
        "\n",
        "first_list = [1,2,3]\n",
        "...\n",
        "\n",
        "second_list[2] = 100\n",
        "\n",
        "print (first_list)"
      ],
      "execution_count": 0,
      "outputs": []
    },
    {
      "cell_type": "code",
      "metadata": {
        "id": "XmgqtqOCNBrW",
        "colab_type": "code",
        "colab": {}
      },
      "source": [
        "#Exercise 1\n",
        "\n",
        "fib = ['hello', 'hi', 'hey', 'hola', 'heyo', 'sup', 'howdy']\n",
        "\n",
        "...\n",
        "\n",
        "...\n",
        "\n",
        "..."
      ],
      "execution_count": 0,
      "outputs": []
    },
    {
      "cell_type": "markdown",
      "metadata": {
        "id": "BVgDHYMFNBrY",
        "colab_type": "text"
      },
      "source": [
        "### Functions\n",
        "\n",
        "Python functions are defined using the def keyword. For example:"
      ]
    },
    {
      "cell_type": "code",
      "metadata": {
        "id": "9aedydUINBrZ",
        "colab_type": "code",
        "colab": {}
      },
      "source": [
        "def hours_and_minutes(minutes): #Define function, provide arguments\n",
        "    n_hours = minutes // 60\n",
        "    n_minutes = minutes % 60 \n",
        "    ... \n",
        "\n",
        "print (hours_and_minutes(181))\n",
        "print (hours_and_minutes(72))"
      ],
      "execution_count": 0,
      "outputs": []
    },
    {
      "cell_type": "code",
      "metadata": {
        "id": "FQ4m_NRzNBrc",
        "colab_type": "code",
        "colab": {}
      },
      "source": [
        "print (n_minutes)"
      ],
      "execution_count": 0,
      "outputs": []
    },
    {
      "cell_type": "code",
      "metadata": {
        "id": "Uulmple7NBre",
        "colab_type": "code",
        "colab": {}
      },
      "source": [
        "#Exercise 2\n",
        "\n",
        "def farenheight_to_celcius(f):\n",
        "    ...\n",
        "\n",
        "    return c\n",
        "\n",
        "print (farenheight_to_celcius(98.6))"
      ],
      "execution_count": 0,
      "outputs": []
    },
    {
      "cell_type": "markdown",
      "metadata": {
        "id": "IX6Swfo9NBrg",
        "colab_type": "text"
      },
      "source": [
        "### Control Flow\n",
        "\n",
        "Conditional statements and loops can purposefully control the order of code that is run"
      ]
    },
    {
      "cell_type": "code",
      "metadata": {
        "id": "oFN2hWM6NBri",
        "colab_type": "code",
        "colab": {}
      },
      "source": [
        "#An example of an if-elif-else clause\n",
        "\n",
        "day = ...\n",
        "\n",
        "... day == 'Tuesday':\n",
        "    print('Taco Time!')\n",
        "elif day == 'Saturday' ... day == 'Sunday':\n",
        "    print('The Weekend!')\n",
        "...:\n",
        "    print('Just Another Day')"
      ],
      "execution_count": 0,
      "outputs": []
    },
    {
      "cell_type": "code",
      "metadata": {
        "id": "O-IsK0F2NBrm",
        "colab_type": "code",
        "colab": {}
      },
      "source": [
        "#Looping through a container\n",
        "\n",
        "animals = ['cat', 'dog', 'monkey']\n",
        "for animal in animals:\n",
        "    print (animal)"
      ],
      "execution_count": 0,
      "outputs": []
    },
    {
      "cell_type": "code",
      "metadata": {
        "id": "bfQ7YfTjNBrr",
        "colab_type": "code",
        "colab": {}
      },
      "source": [
        "animals = ['cat', 'dog', 'monkey']\n",
        "for i in ...:\n",
        "    print (animals[i])"
      ],
      "execution_count": 0,
      "outputs": []
    },
    {
      "cell_type": "code",
      "metadata": {
        "id": "LXAtOX1tNBrw",
        "colab_type": "code",
        "colab": {}
      },
      "source": [
        "lst = [1,2,3,4,5]\n",
        "squared_lst = []\n",
        "for x in lst:\n",
        "    ...\n",
        "print (squared_lst)"
      ],
      "execution_count": 0,
      "outputs": []
    },
    {
      "cell_type": "code",
      "metadata": {
        "id": "NuTJRVCTNBr7",
        "colab_type": "code",
        "colab": {}
      },
      "source": [
        "#List comprehension\n",
        "\n",
        "squared_lst2 = [num**2 ... num ... lst]\n",
        "print (squared_lst2)"
      ],
      "execution_count": 0,
      "outputs": []
    },
    {
      "cell_type": "code",
      "metadata": {
        "id": "3O7q-L2-NBsD",
        "colab_type": "code",
        "colab": {}
      },
      "source": [
        "lst = [1,2,3,4,5]\n",
        "squared_even_lst = []\n",
        "for num in lst:\n",
        "    ...:\n",
        "        squared_lst.append(...)\n",
        "print (squared_even_lst)"
      ],
      "execution_count": 0,
      "outputs": []
    },
    {
      "cell_type": "code",
      "metadata": {
        "id": "Hw1eTVysNBti",
        "colab_type": "code",
        "colab": {}
      },
      "source": [
        "#List comprehension with if\n",
        "\n",
        "squared_even_lst2 = [num**2 ... num ... lst ...]\n",
        "\n",
        "print (squared_even_lst)"
      ],
      "execution_count": 0,
      "outputs": []
    },
    {
      "cell_type": "code",
      "metadata": {
        "id": "lc4tLAxeNBtm",
        "colab_type": "code",
        "colab": {}
      },
      "source": [
        "#Print 'Not there yet! Until i gets to 10'\n",
        "i = 0\n",
        "\n",
        "while ...:\n",
        "    print('Not there yet!')\n",
        "    ...\n",
        "print(i)"
      ],
      "execution_count": 0,
      "outputs": []
    },
    {
      "cell_type": "code",
      "metadata": {
        "id": "ktVRyffeNBts",
        "colab_type": "code",
        "colab": {}
      },
      "source": [
        "#Exercise 3\n",
        "\n",
        "data = ['michigan', 1, 'stats', 3.33, 'hello']\n",
        "\n",
        "...\n",
        "\n",
        "print (words_list)\n",
        "print (numbers_list)"
      ],
      "execution_count": 0,
      "outputs": []
    },
    {
      "cell_type": "code",
      "metadata": {
        "id": "tcPmswySNBt0",
        "colab_type": "code",
        "colab": {}
      },
      "source": [
        "#Exercise 4\n",
        "\n",
        "dct = {'Janice': 3, 'Fred': 2, 'Gregg': 8, 'Gloria': 1}\n",
        "\n",
        "...\n",
        "\n",
        "print (only_odd(dct))"
      ],
      "execution_count": 0,
      "outputs": []
    },
    {
      "cell_type": "markdown",
      "metadata": {
        "id": "f6UWwyruNBt9",
        "colab_type": "text"
      },
      "source": [
        "# Modules\n",
        "\n",
        "- import modules\n",
        "- numpy\n",
        "- pandas\n",
        "- matplotlib\n"
      ]
    },
    {
      "cell_type": "code",
      "metadata": {
        "id": "TVfEzo8pNBuT",
        "colab_type": "code",
        "colab": {}
      },
      "source": [
        "import math\n",
        "\n",
        "print (math.sqrt(16))\n",
        "\n",
        "... math import sqrt\n",
        "print (sqrt(16))\n",
        "\n",
        "import math ... m\n",
        "\n",
        "print (m.sqrt(16))"
      ],
      "execution_count": 0,
      "outputs": []
    },
    {
      "cell_type": "markdown",
      "metadata": {
        "id": "9FuY-vDbNBuV",
        "colab_type": "text"
      },
      "source": [
        "### NumPy"
      ]
    },
    {
      "cell_type": "code",
      "metadata": {
        "id": "on4rGH_qNBuW",
        "colab_type": "code",
        "colab": {}
      },
      "source": [
        "import numpy as np"
      ],
      "execution_count": 0,
      "outputs": []
    },
    {
      "cell_type": "code",
      "metadata": {
        "id": "dqKYMq_LNBuZ",
        "colab_type": "code",
        "colab": {}
      },
      "source": [
        "a = np.array([1, 2, 3])\n",
        "print(a)\n",
        "print(a.shape)"
      ],
      "execution_count": 0,
      "outputs": []
    },
    {
      "cell_type": "code",
      "metadata": {
        "id": "rWgxeK3QNBud",
        "colab_type": "code",
        "colab": {}
      },
      "source": [
        "b = np.array([[0, 2, 4], [1, 3, 5]], dtype = np.float64)\n",
        "print(b)\n",
        "print(b.shape) # Two rows, Three columns"
      ],
      "execution_count": 0,
      "outputs": []
    },
    {
      "cell_type": "code",
      "metadata": {
        "id": "x8VzXUlPNBug",
        "colab_type": "code",
        "colab": {}
      },
      "source": [
        "print (a + 1)\n",
        "\n",
        "print (a * 2)\n",
        "\n",
        "print (a + (2 * a))"
      ],
      "execution_count": 0,
      "outputs": []
    },
    {
      "cell_type": "code",
      "metadata": {
        "id": "CQYl30z_NBul",
        "colab_type": "code",
        "colab": {}
      },
      "source": [
        "print (...) # What values in a are greater than 1\n",
        "\n",
        "print (...) # What values in a are equal to 1"
      ],
      "execution_count": 0,
      "outputs": []
    },
    {
      "cell_type": "code",
      "metadata": {
        "id": "wunS-WtnNBuo",
        "colab_type": "code",
        "colab": {}
      },
      "source": [
        "b = np.array([[0, 2, 4], [1, 3, 5]], dtype = np.float64)\n",
        "\n",
        "print (np.sum(b)) # Sum all elements in b\n",
        "\n",
        "print (np.sum(b, axis = ...)) # Sum all elements in b along column axis\n",
        "\n",
        "print (np.median(b)) # Median of all elements in b\n",
        "\n",
        "print (np.median(b, axis = ...)) # Median of elements in b along row axis"
      ],
      "execution_count": 0,
      "outputs": []
    },
    {
      "cell_type": "code",
      "metadata": {
        "id": "mb_CFo6RNBur",
        "colab_type": "code",
        "colab": {}
      },
      "source": [
        "np.arange(..., ..., ...) # Create array that starts at 5, ends at 10 (non-inclusive), at steps of 0.5"
      ],
      "execution_count": 0,
      "outputs": []
    },
    {
      "cell_type": "code",
      "metadata": {
        "id": "jS8gW5b3NBuu",
        "colab_type": "code",
        "colab": {}
      },
      "source": [
        "np.zeros(5)  # Create an array of all zeros"
      ],
      "execution_count": 0,
      "outputs": []
    },
    {
      "cell_type": "code",
      "metadata": {
        "id": "mUBJJ2qxNBux",
        "colab_type": "code",
        "colab": {}
      },
      "source": [
        "np.ones(shape=(3, 4), dtype = np.int32)  # Create an array of all ones"
      ],
      "execution_count": 0,
      "outputs": []
    },
    {
      "cell_type": "code",
      "metadata": {
        "id": "RD4SDxq7NBu7",
        "colab_type": "code",
        "colab": {}
      },
      "source": [
        "np.random.random((2,5))  # Create an array filled with random values"
      ],
      "execution_count": 0,
      "outputs": []
    },
    {
      "cell_type": "code",
      "metadata": {
        "id": "yhOA9nEwNBvV",
        "colab_type": "code",
        "colab": {}
      },
      "source": [
        "# Create the following rank 2 array with shape (3, 4)\n",
        "# [[ 1  2  3  4]\n",
        "#  [ 5  6  7  8]\n",
        "#  [ 9 10 11 12]]\n",
        "a = np.array([[1,2,3,4], [5,6,7,8], [9,10,11,12]])\n",
        "\n",
        "# Use slicing to pull out the subarray consisting of the first 2 rows\n",
        "# and columns 1 and 2; b is the following array of shape (2, 2):\n",
        "# [[2 3]\n",
        "#  [6 7]]\n",
        "b = a[:2, 1:3]\n",
        "print (b)"
      ],
      "execution_count": 0,
      "outputs": []
    },
    {
      "cell_type": "code",
      "metadata": {
        "id": "DUvOMIWeNBvi",
        "colab_type": "code",
        "colab": {}
      },
      "source": [
        "print (a[0, 1])  \n",
        "b[0, 0] = 77    # b[0, 0] is the same piece of data as a[0, 1]\n",
        "print (a[0, 1])"
      ],
      "execution_count": 0,
      "outputs": []
    },
    {
      "cell_type": "code",
      "metadata": {
        "id": "vj6QFk0zNBvq",
        "colab_type": "code",
        "colab": {}
      },
      "source": [
        "# Create the following rank 2 array with shape (3, 4)\n",
        "# [[ 1  2  3  4]\n",
        "#  [ 5  6  7  8]\n",
        "#  [ 9 10 11 12]]\n",
        "a = np.array([[1,2,3,4], [5,6,7,8], [9,10,11,12]])\n",
        "\n",
        "# Use slicing to pull out the subarray consisting of the first 2 rows\n",
        "# and columns 1 and 2; b is the following array of shape (2, 2):\n",
        "# [[2 3]\n",
        "#  [6 7]]\n",
        "# but, we want to fix the issue of overwriting the original container \n",
        "b = ...\n",
        "print (b)\n",
        "\n",
        "print (a[0, 1])  \n",
        "b[0, 0] = 77    # b[0, 0] is now dfiferent than the piece of data at a[0, 1]\n",
        "print (a[0, 1])"
      ],
      "execution_count": 0,
      "outputs": []
    },
    {
      "cell_type": "code",
      "metadata": {
        "id": "8FkiHgQGNBvw",
        "colab_type": "code",
        "colab": {}
      },
      "source": [
        "# f is a view of contents of e\n",
        "e = np.arange(12)\n",
        "f = e....(3, 4)\n",
        "print(f)"
      ],
      "execution_count": 0,
      "outputs": []
    },
    {
      "cell_type": "code",
      "metadata": {
        "id": "6jfmhPQYNBv0",
        "colab_type": "code",
        "colab": {}
      },
      "source": [
        "# We can get transpose of array by T attribute\n",
        "print (f.T)"
      ],
      "execution_count": 0,
      "outputs": []
    },
    {
      "cell_type": "code",
      "metadata": {
        "id": "MigMKw77NBv9",
        "colab_type": "code",
        "colab": {}
      },
      "source": [
        "#Concatenate vectors \n",
        "\n",
        "a = np.array([1, 2, 3])\n",
        "print(np....([a, a, a]))"
      ],
      "execution_count": 0,
      "outputs": []
    },
    {
      "cell_type": "code",
      "metadata": {
        "id": "9SpIiDcSNBwA",
        "colab_type": "code",
        "colab": {}
      },
      "source": [
        "b = np.array([[1, 2, 3], [4, 5, 6]])\n",
        "d = b / 2.0\n",
        "# Stack b and d vertically\n",
        "print (...)"
      ],
      "execution_count": 0,
      "outputs": []
    },
    {
      "cell_type": "code",
      "metadata": {
        "id": "_H8Hg97GNBwC",
        "colab_type": "code",
        "colab": {}
      },
      "source": [
        "#Combine b and d horizontally\n",
        "print (...)"
      ],
      "execution_count": 0,
      "outputs": []
    },
    {
      "cell_type": "code",
      "metadata": {
        "id": "9KJFqOYANBwF",
        "colab_type": "code",
        "colab": {}
      },
      "source": [
        "v = np.array([9,10])\n",
        "w = np.array([11, 12])\n",
        "# Inner product of vectors; both produce 219\n",
        "print (v.dot(w))\n",
        "print (np.dot(v, w))"
      ],
      "execution_count": 0,
      "outputs": []
    },
    {
      "cell_type": "code",
      "metadata": {
        "id": "p4sZjqT0NBwJ",
        "colab_type": "code",
        "colab": {}
      },
      "source": [
        "# Sin, Cosine\n",
        "print (np.sin(v))\n",
        "print (np.cos(v))"
      ],
      "execution_count": 0,
      "outputs": []
    },
    {
      "cell_type": "markdown",
      "metadata": {
        "id": "uq4lsU4rNBwM",
        "colab_type": "text"
      },
      "source": [
        "### Matplotlib\n",
        "\n",
        "- Plotting Lines\n",
        "- Plotting Multiple Lines\n",
        "- Scatter Plots\n",
        "- Legend, Titles, etc.\n",
        "- Subplots\n",
        "- Histogram"
      ]
    },
    {
      "cell_type": "code",
      "metadata": {
        "id": "NsvuSmVGNBwN",
        "colab_type": "code",
        "colab": {}
      },
      "source": [
        "import matplotlib.pyplot as plt"
      ],
      "execution_count": 0,
      "outputs": []
    },
    {
      "cell_type": "code",
      "metadata": {
        "id": "sZNlQkf6NBwQ",
        "colab_type": "code",
        "colab": {}
      },
      "source": [
        "%matplotlib inline\n",
        "# necessary for jupyter notebooks"
      ],
      "execution_count": 0,
      "outputs": []
    },
    {
      "cell_type": "code",
      "metadata": {
        "id": "AREvLlwfNBwT",
        "colab_type": "code",
        "colab": {}
      },
      "source": [
        "plt.plot([1,2,3,4], 'o-')\n",
        "plt.ylabel('some numbers')\n",
        "plt.show()"
      ],
      "execution_count": 0,
      "outputs": []
    },
    {
      "cell_type": "code",
      "metadata": {
        "id": "GsbXEozFNBwY",
        "colab_type": "code",
        "colab": {}
      },
      "source": [
        "#Two plots on the same line, with a legend and some labels\n",
        "\n",
        "x = np.linspace(0,1,100)\n",
        "y1 = x ** 2\n",
        "y2 = np.sin(x)\n",
        "\n",
        "plt.plot(..., 'r-', label=\"parabola\")\n",
        "plt.plot(..., 'g--', label=\"sine\")\n",
        "...\n",
        "plt.xlabel(...)\n",
        "plt.show()"
      ],
      "execution_count": 0,
      "outputs": []
    },
    {
      "cell_type": "code",
      "metadata": {
        "id": "Ka7njJlQNBwb",
        "colab_type": "code",
        "colab": {}
      },
      "source": [
        "# Create sample data, add some noise, plot a scatter plot \n",
        "x = np.random.uniform(1, 100, 1000)\n",
        "y = np.log(x) + np.random.normal(0, .3, 1000)\n",
        "\n",
        "...\n",
        "plt.show()"
      ],
      "execution_count": 0,
      "outputs": []
    },
    {
      "cell_type": "markdown",
      "metadata": {
        "id": "5IrF3GdGNBwf",
        "colab_type": "text"
      },
      "source": [
        "#### Subplots\n",
        "\n",
        "You can plot different things in the same figure using the subplot function. Here is an example:"
      ]
    },
    {
      "cell_type": "code",
      "metadata": {
        "id": "uEaI5Qk5NBwj",
        "colab_type": "code",
        "colab": {}
      },
      "source": [
        "# Compute the x and y coordinates for points on sine and cosine curves\n",
        "x = np.arange(0, 3 * np.pi, 0.1)\n",
        "y_sin = np.sin(x)\n",
        "y_cos = np.cos(x)\n",
        "\n",
        "# First plot\n",
        "plt.subplot(2, 1, 1)\n",
        "plt.plot(x, y_sin)\n",
        "plt.title('Sine')\n",
        "\n",
        "# Second plot\n",
        "plt.subplot(2, 1, 2)\n",
        "plt.plot(x, y_cos)\n",
        "plt.title('Cosine')\n",
        "\n",
        "# Show the figure.\n",
        "plt.show()"
      ],
      "execution_count": 0,
      "outputs": []
    },
    {
      "cell_type": "code",
      "metadata": {
        "id": "9UYJg3aVNBwn",
        "colab_type": "code",
        "colab": {}
      },
      "source": [
        "mu, sigma = 100, 15\n",
        "x = mu + sigma * np.random.randn(10000)\n",
        "\n",
        "# the histogram of the data\n",
        "n, bins, patches = plt....(x, 50, density=1, facecolor='g', alpha=0.75)\n",
        "\n",
        "plt.xlabel('Smarts')\n",
        "plt.ylabel('Probability')\n",
        "plt.title('Histogram of IQ')\n",
        "plt.axis([40, 160, 0, 0.03])\n",
        "plt.grid(True)\n",
        "plt.show()"
      ],
      "execution_count": 0,
      "outputs": []
    }
  ]
}